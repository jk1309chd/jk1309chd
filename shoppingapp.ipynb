{
  "cells": [
    {
      "cell_type": "code",
      "execution_count": null,
      "metadata": {
        "colab": {
          "base_uri": "https://localhost:8080/"
        },
        "id": "6xZIXC2uKSnL",
        "outputId": "ca40c9a5-00b7-43ab-b44b-cfe172966bb9"
      },
      "outputs": [],
      "source": [
        "print(\"Welcome to the Demo Marketplace\")"
      ]
    },
    {
      "cell_type": "code",
      "execution_count": null,
      "metadata": {
        "id": "KLwE2hQeN_s3"
      },
      "outputs": [],
      "source": [
        "# Create demo database with user and admin credentials\n",
        "user_db = {\"user1\": \"pass1\", \"user2\": \"pass2\"}\n",
        "admin_db = {\"admin1\": \"pass1\", \"admin2\": \"pass2\"}"
      ]
    },
    {
      "cell_type": "code",
      "execution_count": null,
      "metadata": {
        "id": "uqsroiuDOcmF"
      },
      "outputs": [],
      "source": [
        "def generate_session_id():\n",
        "    return \"12345\"\n",
        "# Function to handle user login\n",
        "def user_login():\n",
        "    user = input(\"Enter your username: \")\n",
        "    password = input(\"Enter your password: \")\n",
        "    if user in user_db and user_db[user] == password:\n",
        "        print(\"Login successful as user.\")\n",
        "        # Generate session id for user\n",
        "        session_id = generate_session_id()\n",
        "        print(\"Your session id is: \", session_id)\n",
        "    else:\n",
        "        print(\"Login failed. Please try again.\")\n"
      ]
    },
    {
      "cell_type": "code",
      "execution_count": null,
      "metadata": {
        "id": "D9EpA4avOmT4"
      },
      "outputs": [],
      "source": [
        "# Function to handle admin login\n",
        "def admin_login():\n",
        "    admin = input(\"Enter your username: \")\n",
        "    password = input(\"Enter your password: \")\n",
        "    if admin in admin_db and admin_db[admin] == password:\n",
        "        print(\"Login successful as admin.\")\n",
        "        # Generate session id for admin\n",
        "        session_id = generate_session_id()\n",
        "        print(\"Your session id is: \", session_id)\n",
        "    else:\n",
        "        print(\"Login failed. Please try again.\")"
      ]
    },
    {
      "cell_type": "code",
      "execution_count": null,
      "metadata": {
        "id": "aqSQVPccOv0Z"
      },
      "outputs": [],
      "source": [
        "# Function to generate a unique session id (dummy implementation)\n",
        "def generate_session_id():\n",
        "    return \"12345\""
      ]
    },
    {
      "cell_type": "code",
      "execution_count": null,
      "metadata": {
        "colab": {
          "base_uri": "https://localhost:8080/"
        },
        "id": "idmPWTRPO1S3",
        "outputId": "2ecdb050-b878-4d3a-f698-7e65cf7d42fd"
      },
      "outputs": [],
      "source": [
        "# User or admin can call the login functions as per their choice\n",
        "login_as = input(\"Enter 'u' for user login or 'a' for admin login: \")\n",
        "if login_as == 'u':\n",
        "    user_login()\n",
        "elif login_as == 'a':\n",
        "    admin_login()\n",
        "else:\n",
        "    print(\"Invalid option.\")"
      ]
    },
    {
      "cell_type": "code",
      "execution_count": null,
      "metadata": {
        "id": "CSFJ5zlZPudQ"
      },
      "outputs": [],
      "source": [
        "# Create a demo catalogue of products\n",
        "catalogue = [\n",
        "    {\"id\": 1, \"name\": \"Boots\", \"category\": 1, \"price\": 2000},\n",
        "    {\"id\": 2, \"name\": \"Coats\", \"category\": 2, \"price\": 2500},\n",
        "    {\"id\": 3, \"name\": \"Jackets\", \"category\": 3, \"price\": 1500},\n",
        "    {\"id\": 4, \"name\": \"Caps\", \"category\": 4, \"price\": 500}\n",
        "]\n"
      ]
    },
    {
      "cell_type": "code",
      "execution_count": null,
      "metadata": {
        "id": "V2w0V_eMQI3g"
      },
      "outputs": [],
      "source": [
        "# Function to display the catalogue\n",
        "def display_catalogue():\n",
        "    print(\"Product Id\\tName\\t\\tCategory\\tPrice\")\n",
        "    for product in catalogue:\n",
        "        print(f\"{product['id']}\\t\\t{product['name']}\\t\\t{product['category']}\\t\\t{product['price']}\")\n"
      ]
    },
    {
      "cell_type": "code",
      "execution_count": null,
      "metadata": {
        "colab": {
          "base_uri": "https://localhost:8080/"
        },
        "id": "-PyTRGZFQQaB",
        "outputId": "adccbd88-6656-4821-abb8-5261ce256363"
      },
      "outputs": [],
      "source": [
        "# Call the display_catalogue function to show the catalogue\n",
        "display_catalogue()"
      ]
    },
    {
      "cell_type": "code",
      "execution_count": null,
      "metadata": {
        "id": "hkqeO5SyQkZY"
      },
      "outputs": [],
      "source": [
        "# Create a demo cart\n",
        "cart = []"
      ]
    },
    {
      "cell_type": "code",
      "execution_count": null,
      "metadata": {
        "id": "R8sfWlmiR0Vp"
      },
      "outputs": [],
      "source": [
        "# Function to display the cart\n",
        "def display_cart():\n",
        "    print(\"Session Id\\tProduct Id\\tName\\t\\tQuantity\")\n",
        "    for item in cart:\n",
        "        print(f\"{item['session_id']}\\t\\t{item['product_id']}\\t\\t{item['name']}\\t\\t{item['quantity']}\")\n"
      ]
    },
    {
      "cell_type": "code",
      "execution_count": null,
      "metadata": {
        "id": "YkPpzN7WR6rE"
      },
      "outputs": [],
      "source": [
        "# Function to add an item to the cart\n",
        "def add_to_cart(session_id, product_id, quantity):\n",
        "    product = [p for p in catalogue if p['id'] == product_id][0]\n",
        "    cart.append({\"session_id\": session_id, \"product_id\": product_id, \"name\": product['name'], \"quantity\": quantity})\n",
        "    print(f\"{quantity} pieces of {product['name']} added to the cart.\")"
      ]
    },
    {
      "cell_type": "code",
      "execution_count": null,
      "metadata": {
        "id": "-gcGXGUJSHKt"
      },
      "outputs": [],
      "source": [
        "# Function to delete an item from the cart\n",
        "def delete_from_cart(session_id, product_id):\n",
        "    for i, item in enumerate(cart):\n",
        "        if item['session_id'] == session_id and item['product_id'] == product_id:\n",
        "            del cart[i]\n",
        "            print(f\"{item['name']} removed from the cart.\")\n",
        "            break\n",
        "    else:\n",
        "        print(\"Item not found in the cart.\")\n"
      ]
    },
    {
      "cell_type": "code",
      "execution_count": null,
      "metadata": {
        "colab": {
          "base_uri": "https://localhost:8080/"
        },
        "id": "rryKxyBiSNbs",
        "outputId": "80ca44a2-dee3-47c6-d90a-7e90afe1a76a"
      },
      "outputs": [],
      "source": [
        "# User login\n",
        "session_id = input(\"Enter your session id: \")\n",
        "while True:\n",
        "    print(\"\\n1. View Cart\")\n",
        "    print(\"2. Add to Cart\")\n",
        "    print(\"3. Delete from Cart\")\n",
        "    print(\"4. Logout\")\n",
        "    choice = int(input(\"Enter your choice: \"))\n",
        "    if choice == 1:\n",
        "        display_cart()\n",
        "    elif choice == 2:\n",
        "        product_id = int(input(\"Enter the product id: \"))\n",
        "        quantity = int(input(\"Enter the quantity: \"))\n",
        "        add_to_cart(session_id, product_id, quantity)\n",
        "    elif choice == 3:\n",
        "        product_id = int(input(\"Enter the product id: \"))\n",
        "        delete_from_cart(session_id, product_id)\n",
        "    elif choice == 4:\n",
        "        break\n",
        "    else:\n",
        "        print(\"Invalid choice.\")"
      ]
    },
    {
      "cell_type": "code",
      "execution_count": null,
      "metadata": {
        "id": "TK2ppn6nUh88"
      },
      "outputs": [],
      "source": [
        "def checkout():\n",
        "  payment_method = input(\"Please select the payment method (net_banking/PayPal/UPI): \")\n",
        "  if payment_method == \"net_banking\":\n",
        "    print(\"Your order is successfully placed, and the payment has been made using Net Banking.\")\n",
        "    print(\"Thank you for shopping with us! Have a great day :)\")\n",
        "  elif payment_method == \"PayPal\":\n",
        "    print(\"Your order is successfully placed, and the payment has been made using PayPal.\")\n",
        "    print(\"Thank you for shopping with us! Have a great day :)\")\n",
        "  elif payment_method == \"UPI\":\n",
        "    print(\"You will be shortly redirected to the portal for Unified Payment Interface to make a payment.\")\n",
        "    print(\"Thank you for shopping with us! Have a great day :)\")\n",
        "  else:\n",
        "    print(\"Invalid payment method selected. Please choose a valid payment option.\")"
      ]
    },
    {
      "cell_type": "code",
      "execution_count": null,
      "metadata": {
        "colab": {
          "base_uri": "https://localhost:8080/"
        },
        "id": "5Yc1qi7kUsOs",
        "outputId": "dd378615-74a6-4e6d-8f03-4e403845f2af"
      },
      "outputs": [],
      "source": [
        "# Example usage\n",
        "checkout()\n",
        "# Output: \n",
        "# Please select the payment method (net_banking/PayPal/UPI): UPI\n",
        "# You will be shortly redirected to the portal for Unified Payment Interface to make a payment.\n",
        "# Thank you for shopping with us! Have a great day :)"
      ]
    },
    {
      "cell_type": "code",
      "execution_count": null,
      "metadata": {
        "id": "L9jsa-Lrd1my"
      },
      "outputs": [],
      "source": [
        "#Admin Login Verification\n",
        "def admin_login(username, password):\n",
        "    admin_db = {\"admin1\": \"pass1\", \"admin2\": \"pass2\"}\n",
        "    if username in admin_db and admin_db[username] == password:\n",
        "        return True\n",
        "    else:\n",
        "        return False\n",
        "    \n",
        "#Admin Functionality\n",
        "def admin_func(username, password):\n",
        "    if admin_login(username, password):\n",
        "        print(\"Admin Login Successful.\")\n",
        "        while True:\n",
        "            print(\"Enter 1 to add product to the catalog\")\n",
        "            print(\"Enter 2 to update product in the catalog\")\n",
        "            print(\"Enter 3 to delete product from the catalog\")\n",
        "            print(\"Enter 4 to add category in the catalog\")\n",
        "            print(\"Enter 5 to delete category from the catalog\")\n",
        "            print(\"Enter 6 to Logout\")\n",
        "            admin_choice = int(input(\"Enter your choice: \"))\n",
        "            \n",
        "            #Add product to the catalog\n",
        "            if admin_choice == 1:\n",
        "                product_id = int(input(\"Enter Product ID: \"))\n",
        "                product_name = input(\"Enter Product Name: \")\n",
        "                category_id = int(input(\"Enter Category ID: \"))\n",
        "                price = float(input(\"Enter Price: \"))\n",
        "                add_product(product_id, product_name, category_id, price)\n",
        "                print(\"Product Added Successfully.\")\n",
        "                \n",
        "            #Update product in the catalog\n",
        "            elif admin_choice == 2:\n",
        "                product_id = int(input(\"Enter Product ID: \"))\n",
        "                product_name = input(\"Enter New Product Name: \")\n",
        "                category_id = int(input(\"Enter New Category ID: \"))\n",
        "                price = float(input(\"Enter New Price: \"))\n",
        "                update_product(product_id, product_name, category_id, price)\n",
        "                print(\"Product Updated Successfully.\")\n",
        "                \n",
        "            #Delete product from the catalog\n",
        "            elif admin_choice == 3:\n",
        "                product_id = int(input(\"Enter Product ID: \"))\n",
        "                delete_product(product_id)\n",
        "                print(\"Product Deleted Successfully.\")\n",
        "                \n",
        "            #Add category in the catalog\n",
        "            elif admin_choice == 4:\n",
        "                category_name = input(\"Enter Category Name: \")\n",
        "                add_category(category_name)\n",
        "                print(\"Category Added Successfully.\")\n",
        "                \n",
        "            #Delete category from the catalog\n",
        "            elif admin_choice == 5:\n",
        "                category_name = input(\"Enter Category Name: \")\n",
        "                delete_category(category_name)\n",
        "                print(\"Category Deleted Successfully.\")\n",
        "                \n",
        "            #Logout\n",
        "            elif admin_choice == 6:\n",
        "                print(\"Admin Logout Successful.\")\n",
        "                break\n",
        "            else:\n",
        "                print(\"Invalid Input. Try Again.\")\n",
        "    else:\n",
        "        print(\"Invalid Admin Login. Try Again.\")\n",
        "\n"
      ]
    },
    {
      "cell_type": "code",
      "execution_count": null,
      "metadata": {
        "id": "QDOQYSTekQXH"
      },
      "outputs": [],
      "source": [
        "def add_to_cart(session_id, product_id, quantity, user_type):\n",
        "    if user_type == \"admin\":\n",
        "        print(\"Error: Admins cannot modify the cart.\")\n",
        "        return\n",
        "    # Add the item to the cart using the session id, product id, and quantity\n",
        "    # ...\n",
        "\n",
        "def delete_from_cart(session_id, product_id, quantity, user_type):\n",
        "    if user_type == \"admin\":\n",
        "        print(\"Error: Admins cannot modify the cart.\")\n",
        "        return\n",
        "    # Delete the item from the cart using the session id, product id, and quantity\n",
        "    # ...\n",
        "\n",
        "def view_cart(session_id, user_type):\n",
        "    if user_type == \"admin\":\n",
        "        print(\"Error: Admins cannot view the cart.\")\n",
        "        return\n",
        "    # View the items in the cart for the user with the given session id\n",
        "    # ...\n"
      ]
    },
    {
      "cell_type": "code",
      "execution_count": null,
      "metadata": {
        "id": "YZLm89Aak6mB"
      },
      "outputs": [],
      "source": [
        "def add_product(product_id, name, category_id, price, user_type):\n",
        "    if user_type != \"admin\":\n",
        "        print(\"Error: Only admin can add products.\")\n",
        "        return\n",
        "    # Add the product to the catalog using the product id, name, category id, and price\n",
        "    # ...\n",
        "\n",
        "def update_product(product_id, name, category_id, price, user_type):\n",
        "    if user_type != \"admin\":\n",
        "        print(\"Error: Only admin can update products.\")\n",
        "        return\n",
        "    # Update the product in the catalog using the product id, name, category id, and price\n",
        "    # ...\n",
        "\n",
        "def delete_product(product_id, user_type):\n",
        "    if user_type != \"admin\":\n",
        "        print(\"Error: Only admin can delete products.\")\n",
        "        return\n",
        "    # Delete the product from the catalog using the product id\n",
        "    # ...\n",
        "\n",
        "def add_category(category_name, user_type):\n",
        "    if user_type != \"admin\":\n",
        "        print(\"Error: Only admin can add categories.\")\n",
        "        return\n",
        "    # Add the category to the catalog using the category name\n",
        "    # ...\n",
        "\n",
        "def delete_category(category_id, user_type):\n",
        "    if user_type != \"admin\":\n",
        "        print(\"Error: Only admin can delete categories.\")\n",
        "        return\n",
        "    # Delete the category from the catalog using the category id\n",
        "    # ...\n"
      ]
    },
    {
      "cell_type": "code",
      "execution_count": null,
      "metadata": {
        "id": "mR2sLd5IEf0N"
      },
      "outputs": [],
      "source": []
    }
  ],
  "metadata": {
    "colab": {
      "provenance": []
    },
    "kernelspec": {
      "display_name": "Python 3",
      "name": "python3"
    },
    "language_info": {
      "codemirror_mode": {
        "name": "ipython",
        "version": 3
      },
      "file_extension": ".py",
      "mimetype": "text/x-python",
      "name": "python",
      "nbconvert_exporter": "python",
      "pygments_lexer": "ipython3",
      "version": "3.10.5"
    }
  },
  "nbformat": 4,
  "nbformat_minor": 0
}
